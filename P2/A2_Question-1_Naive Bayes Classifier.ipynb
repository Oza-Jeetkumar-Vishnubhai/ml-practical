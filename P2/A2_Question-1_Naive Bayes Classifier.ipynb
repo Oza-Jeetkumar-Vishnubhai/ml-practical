{
 "cells": [
  {
   "cell_type": "markdown",
   "id": "3c722fb3",
   "metadata": {},
   "source": [
    "# <center>Naive Bayes Classifier"
   ]
  },
  {
   "cell_type": "markdown",
   "id": "f99529ea",
   "metadata": {},
   "source": [
    "#### Importing libraries"
   ]
  },
  {
   "cell_type": "code",
   "execution_count": 1,
   "id": "85e4cd9f",
   "metadata": {},
   "outputs": [],
   "source": [
    "import matplotlib.pyplot as plt\n",
    "import seaborn as sns\n",
    "import pandas as pd\n",
    "import numpy as np\n",
    "import nltk #used for text processing \n",
    "import sklearn\n",
    "#nltk.download('stopwords')"
   ]
  },
  {
   "cell_type": "markdown",
   "id": "6414d8e3",
   "metadata": {},
   "source": [
    "#### Reading the data"
   ]
  },
  {
   "cell_type": "code",
   "execution_count": 2,
   "id": "467b6a22",
   "metadata": {},
   "outputs": [
    {
     "name": "stdout",
     "output_type": "stream",
     "text": [
      "<class 'pandas.core.frame.DataFrame'>\n",
      "RangeIndex: 5574 entries, 0 to 5573\n",
      "Data columns (total 2 columns):\n",
      " #   Column  Non-Null Count  Dtype \n",
      "---  ------  --------------  ----- \n",
      " 0   type    5574 non-null   object\n",
      " 1   text    5574 non-null   object\n",
      "dtypes: object(2)\n",
      "memory usage: 87.2+ KB\n"
     ]
    },
    {
     "data": {
      "text/html": [
       "<div>\n",
       "<style scoped>\n",
       "    .dataframe tbody tr th:only-of-type {\n",
       "        vertical-align: middle;\n",
       "    }\n",
       "\n",
       "    .dataframe tbody tr th {\n",
       "        vertical-align: top;\n",
       "    }\n",
       "\n",
       "    .dataframe thead th {\n",
       "        text-align: right;\n",
       "    }\n",
       "</style>\n",
       "<table border=\"1\" class=\"dataframe\">\n",
       "  <thead>\n",
       "    <tr style=\"text-align: right;\">\n",
       "      <th></th>\n",
       "      <th>type</th>\n",
       "      <th>text</th>\n",
       "    </tr>\n",
       "  </thead>\n",
       "  <tbody>\n",
       "    <tr>\n",
       "      <th>0</th>\n",
       "      <td>ham</td>\n",
       "      <td>Go until jurong point, crazy.. Available only ...</td>\n",
       "    </tr>\n",
       "    <tr>\n",
       "      <th>1</th>\n",
       "      <td>ham</td>\n",
       "      <td>Ok lar... Joking wif u oni...</td>\n",
       "    </tr>\n",
       "    <tr>\n",
       "      <th>2</th>\n",
       "      <td>spam</td>\n",
       "      <td>Free entry in 2 a wkly comp to win FA Cup fina...</td>\n",
       "    </tr>\n",
       "    <tr>\n",
       "      <th>3</th>\n",
       "      <td>ham</td>\n",
       "      <td>U dun say so early hor... U c already then say...</td>\n",
       "    </tr>\n",
       "    <tr>\n",
       "      <th>4</th>\n",
       "      <td>ham</td>\n",
       "      <td>Nah I don't think he goes to usf, he lives aro...</td>\n",
       "    </tr>\n",
       "  </tbody>\n",
       "</table>\n",
       "</div>"
      ],
      "text/plain": [
       "   type                                               text\n",
       "0   ham  Go until jurong point, crazy.. Available only ...\n",
       "1   ham                      Ok lar... Joking wif u oni...\n",
       "2  spam  Free entry in 2 a wkly comp to win FA Cup fina...\n",
       "3   ham  U dun say so early hor... U c already then say...\n",
       "4   ham  Nah I don't think he goes to usf, he lives aro..."
      ]
     },
     "execution_count": 2,
     "metadata": {},
     "output_type": "execute_result"
    }
   ],
   "source": [
    "sms = pd.read_csv('sms_spam.csv')\n",
    "sms.info()\n",
    "sms.head()"
   ]
  },
  {
   "cell_type": "markdown",
   "id": "e8dc9284",
   "metadata": {},
   "source": [
    "#### Converting the word spam or ham to binary indicator variable(1/0)"
   ]
  },
  {
   "cell_type": "code",
   "execution_count": 3,
   "id": "b73cb8f8",
   "metadata": {},
   "outputs": [
    {
     "data": {
      "text/html": [
       "<div>\n",
       "<style scoped>\n",
       "    .dataframe tbody tr th:only-of-type {\n",
       "        vertical-align: middle;\n",
       "    }\n",
       "\n",
       "    .dataframe tbody tr th {\n",
       "        vertical-align: top;\n",
       "    }\n",
       "\n",
       "    .dataframe thead th {\n",
       "        text-align: right;\n",
       "    }\n",
       "</style>\n",
       "<table border=\"1\" class=\"dataframe\">\n",
       "  <thead>\n",
       "    <tr style=\"text-align: right;\">\n",
       "      <th></th>\n",
       "      <th>type</th>\n",
       "      <th>text</th>\n",
       "    </tr>\n",
       "  </thead>\n",
       "  <tbody>\n",
       "    <tr>\n",
       "      <th>0</th>\n",
       "      <td>0</td>\n",
       "      <td>Go until jurong point, crazy.. Available only ...</td>\n",
       "    </tr>\n",
       "    <tr>\n",
       "      <th>1</th>\n",
       "      <td>0</td>\n",
       "      <td>Ok lar... Joking wif u oni...</td>\n",
       "    </tr>\n",
       "    <tr>\n",
       "      <th>2</th>\n",
       "      <td>1</td>\n",
       "      <td>Free entry in 2 a wkly comp to win FA Cup fina...</td>\n",
       "    </tr>\n",
       "    <tr>\n",
       "      <th>3</th>\n",
       "      <td>0</td>\n",
       "      <td>U dun say so early hor... U c already then say...</td>\n",
       "    </tr>\n",
       "    <tr>\n",
       "      <th>4</th>\n",
       "      <td>0</td>\n",
       "      <td>Nah I don't think he goes to usf, he lives aro...</td>\n",
       "    </tr>\n",
       "  </tbody>\n",
       "</table>\n",
       "</div>"
      ],
      "text/plain": [
       "   type                                               text\n",
       "0     0  Go until jurong point, crazy.. Available only ...\n",
       "1     0                      Ok lar... Joking wif u oni...\n",
       "2     1  Free entry in 2 a wkly comp to win FA Cup fina...\n",
       "3     0  U dun say so early hor... U c already then say...\n",
       "4     0  Nah I don't think he goes to usf, he lives aro..."
      ]
     },
     "execution_count": 3,
     "metadata": {},
     "output_type": "execute_result"
    }
   ],
   "source": [
    "from sklearn.preprocessing import LabelEncoder\n",
    "le = LabelEncoder()\n",
    "sms['type'] = le.fit_transform(sms['type'])\n",
    "sms.head()"
   ]
  },
  {
   "cell_type": "code",
   "execution_count": 4,
   "id": "546ae719",
   "metadata": {},
   "outputs": [
    {
     "data": {
      "text/plain": [
       "Index(['type', 'text'], dtype='object')"
      ]
     },
     "execution_count": 4,
     "metadata": {},
     "output_type": "execute_result"
    }
   ],
   "source": [
    "sms.columns"
   ]
  },
  {
   "cell_type": "code",
   "execution_count": 5,
   "id": "c50556d5",
   "metadata": {},
   "outputs": [],
   "source": [
    "y = sms.type"
   ]
  },
  {
   "cell_type": "markdown",
   "id": "2b840682",
   "metadata": {},
   "source": [
    "#### TFIDF Vectorizer"
   ]
  },
  {
   "cell_type": "code",
   "execution_count": 6,
   "id": "4098228c",
   "metadata": {},
   "outputs": [],
   "source": [
    "from nltk.corpus import stopwords\n",
    "from sklearn.feature_extraction.text import TfidfVectorizer\n",
    "stopset = set(stopwords.words('english'))\n",
    "vectorizer = TfidfVectorizer(use_idf=True, lowercase=True, strip_accents='ascii', stop_words=stopset)"
   ]
  },
  {
   "cell_type": "markdown",
   "id": "eb4cd270",
   "metadata": {},
   "source": [
    "#### Converting sms.txt from text to features"
   ]
  },
  {
   "cell_type": "code",
   "execution_count": 7,
   "id": "1eb7f9be",
   "metadata": {},
   "outputs": [],
   "source": [
    "X = vectorizer.fit_transform(sms.text)"
   ]
  },
  {
   "cell_type": "code",
   "execution_count": 8,
   "id": "28599050",
   "metadata": {},
   "outputs": [
    {
     "data": {
      "text/plain": [
       "(5574, 8586)"
      ]
     },
     "execution_count": 8,
     "metadata": {},
     "output_type": "execute_result"
    }
   ],
   "source": [
    "X.shape"
   ]
  },
  {
   "cell_type": "code",
   "execution_count": 9,
   "id": "3fc12b01",
   "metadata": {},
   "outputs": [
    {
     "data": {
      "text/plain": [
       "array([0.19367544, 0.34661851, 0.16250347, ..., 0.69423987, 0.53028734,\n",
       "       0.48664807])"
      ]
     },
     "execution_count": 9,
     "metadata": {},
     "output_type": "execute_result"
    }
   ],
   "source": [
    "X.data"
   ]
  },
  {
   "cell_type": "markdown",
   "id": "4e185ff3",
   "metadata": {},
   "source": [
    "#### TF(t) = (Number of times term t appears in a document) / (Total number of terms in the document)\n",
    "#### IDF(t) = log_e(Total number of terms in documents / Number of terms in documents with term t in it).\n",
    "#### tf-idf score = TF(t)*IDF(t)"
   ]
  },
  {
   "cell_type": "code",
   "execution_count": 10,
   "id": "f4474984",
   "metadata": {},
   "outputs": [
    {
     "data": {
      "text/plain": [
       "'Go until jurong point, crazy.. Available only in bugis n great world la e buffet... Cine there got amore wat...'"
      ]
     },
     "execution_count": 10,
     "metadata": {},
     "output_type": "execute_result"
    }
   ],
   "source": [
    "sms.text[0]"
   ]
  },
  {
   "cell_type": "code",
   "execution_count": 11,
   "id": "8f597bc1",
   "metadata": {},
   "outputs": [
    {
     "name": "stdout",
     "output_type": "stream",
     "text": [
      "['Go', 'until', 'jurong', 'point,', 'crazy..', 'Available', 'only', 'in', 'bugis', 'n', 'great', 'world', 'la', 'e', 'buffet...', 'Cine', 'there', 'got', 'amore', 'wat...']\n"
     ]
    }
   ],
   "source": [
    "# Spliting the SMS to separate the text into individual words\n",
    "splitted_txt1 = sms.text[0].split()\n",
    "print(splitted_txt1)"
   ]
  },
  {
   "cell_type": "code",
   "execution_count": 12,
   "id": "c3c73add",
   "metadata": {},
   "outputs": [
    {
     "data": {
      "text/plain": [
       "20"
      ]
     },
     "execution_count": 12,
     "metadata": {},
     "output_type": "execute_result"
    }
   ],
   "source": [
    "## Count the number of words in the first SMS\n",
    "len(splitted_txt1)"
   ]
  },
  {
   "cell_type": "code",
   "execution_count": 13,
   "id": "85d7bd1b",
   "metadata": {},
   "outputs": [
    {
     "data": {
      "text/plain": [
       "<1x8586 sparse matrix of type '<class 'numpy.float64'>'\n",
       "\twith 14 stored elements in Compressed Sparse Row format>"
      ]
     },
     "execution_count": 13,
     "metadata": {},
     "output_type": "execute_result"
    }
   ],
   "source": [
    "X[0]"
   ]
  },
  {
   "cell_type": "code",
   "execution_count": 14,
   "id": "caedfb93",
   "metadata": {},
   "outputs": [
    {
     "name": "stdout",
     "output_type": "stream",
     "text": [
      "  (0, 8218)\t0.1936754385697072\n",
      "  (0, 1074)\t0.34661850736522926\n",
      "  (0, 3580)\t0.16250347021789968\n",
      "  (0, 2038)\t0.29282687644410044\n",
      "  (0, 1744)\t0.33088546389448276\n",
      "  (0, 4442)\t0.29282687644410044\n",
      "  (0, 8428)\t0.23446497404204306\n",
      "  (0, 3620)\t0.19147848622350874\n",
      "  (0, 1746)\t0.29282687644410044\n",
      "  (0, 1301)\t0.25926284833436075\n",
      "  (0, 2316)\t0.2684353143416924\n",
      "  (0, 5877)\t0.27111240744926074\n",
      "  (0, 4316)\t0.34661850736522926\n",
      "  (0, 3536)\t0.15700708175427927\n"
     ]
    }
   ],
   "source": [
    "print(X[0])"
   ]
  },
  {
   "cell_type": "markdown",
   "id": "276dcd98",
   "metadata": {},
   "source": [
    "#### It means in the first SMS there are 20 words & out of which only 14 elements have been taken, that's why we'll get only 14 tf-idf values for the first the SMS.Likewise elements or words of all other SMSes are taken into consideration"
   ]
  },
  {
   "cell_type": "code",
   "execution_count": 15,
   "id": "1d53200f",
   "metadata": {},
   "outputs": [
    {
     "data": {
      "text/plain": [
       "8586"
      ]
     },
     "execution_count": 15,
     "metadata": {},
     "output_type": "execute_result"
    }
   ],
   "source": [
    "len(vectorizer.get_feature_names_out())"
   ]
  },
  {
   "cell_type": "code",
   "execution_count": 16,
   "id": "487ebc3d",
   "metadata": {},
   "outputs": [
    {
     "data": {
      "text/plain": [
       "'zyada'"
      ]
     },
     "execution_count": 16,
     "metadata": {},
     "output_type": "execute_result"
    }
   ],
   "source": [
    "vectorizer.get_feature_names_out()[8585]"
   ]
  },
  {
   "cell_type": "code",
   "execution_count": 17,
   "id": "d5efc38c",
   "metadata": {},
   "outputs": [
    {
     "name": "stdout",
     "output_type": "stream",
     "text": [
      "(5574,)\n",
      "(5574, 8586)\n"
     ]
    }
   ],
   "source": [
    "print (y.shape)\n",
    "print (X.shape)"
   ]
  },
  {
   "cell_type": "code",
   "execution_count": 18,
   "id": "0e7e447e",
   "metadata": {},
   "outputs": [],
   "source": [
    "from sklearn.model_selection import train_test_split\n",
    "X_train, X_test, y_train, y_test = train_test_split(X, y, test_size = 0.20, random_state = 0)"
   ]
  },
  {
   "cell_type": "code",
   "execution_count": 19,
   "id": "4974a48b",
   "metadata": {},
   "outputs": [],
   "source": [
    "# Training Naive Bayes Classifier\n",
    "from sklearn import naive_bayes\n",
    "classification = naive_bayes.MultinomialNB()\n",
    "model = classification.fit(X_train, y_train)"
   ]
  },
  {
   "cell_type": "code",
   "execution_count": 20,
   "id": "d0a5dea5",
   "metadata": {},
   "outputs": [],
   "source": [
    "y_pred = model.predict(X_test)"
   ]
  },
  {
   "cell_type": "code",
   "execution_count": 21,
   "id": "328ecc3c",
   "metadata": {},
   "outputs": [
    {
     "name": "stdout",
     "output_type": "stream",
     "text": [
      "Accuracy score:  0.9704035874439462\n",
      "Precision score:  1.0\n",
      "Recall score:  0.7924528301886793\n",
      "F1 score:  0.8842105263157896\n"
     ]
    }
   ],
   "source": [
    "from sklearn.metrics import accuracy_score, precision_score, recall_score, f1_score\n",
    "print('Accuracy score: ', format(accuracy_score(y_test, y_pred)))\n",
    "print('Precision score: ', format(precision_score(y_test, y_pred)))\n",
    "print('Recall score: ', format(recall_score(y_test, y_pred)))\n",
    "print('F1 score: ', format(f1_score(y_test, y_pred)))"
   ]
  },
  {
   "cell_type": "code",
   "execution_count": 22,
   "id": "522a9a85",
   "metadata": {},
   "outputs": [
    {
     "data": {
      "image/png": "[encoded data removed]",
      "text/plain": [
       "<Figure size 500x500 with 1 Axes>"
      ]
     },
     "metadata": {
      "needs_background": "light"
     },
     "output_type": "display_data"
    }
   ],
   "source": [
    "#ROC is a probability curve and AUC represents the degree of separability\n",
    "from sklearn.metrics import roc_curve, auc\n",
    "\n",
    "fpr, tpr, threshold = roc_curve(y_test, y_pred) #returns False-Positive rate and True-Negative rate\n",
    "auc = auc(fpr, tpr)\n",
    "\n",
    "plt.figure(figsize = (5, 5), dpi = 100)\n",
    "plt.plot(fpr, tpr, marker = '.', label = 'Naive Bayes (auc = %0.3f)' % auc)\n",
    "\n",
    "plt.xlabel('False Positive Rate -->')\n",
    "plt.ylabel('True Positive Rate -->')\n",
    "plt.legend()\n",
    "\n",
    "plt.show()"
   ]
  }
 ],
 "metadata": {
  "kernelspec": {
   "display_name": "Python 3 (ipykernel)",
   "language": "python",
   "name": "python3"
  },
  "language_info": {
   "codemirror_mode": {
    "name": "ipython",
    "version": 3
   },
   "file_extension": ".py",
   "mimetype": "text/x-python",
   "name": "python",
   "nbconvert_exporter": "python",
   "pygments_lexer": "ipython3",
   "version": "3.10.1"
  }
 },
 "nbformat": 4,
 "nbformat_minor": 5
}
